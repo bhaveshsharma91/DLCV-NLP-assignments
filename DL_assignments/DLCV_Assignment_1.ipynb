{
  "nbformat": 4,
  "nbformat_minor": 0,
  "metadata": {
    "colab": {
      "provenance": []
    },
    "kernelspec": {
      "name": "python3",
      "display_name": "Python 3"
    },
    "language_info": {
      "name": "python"
    }
  },
  "cells": [
    {
      "cell_type": "markdown",
      "source": [
        "# Objective: - Predict Next Sequence\n",
        "To start with deep learning, the very basic project that you can build is to predict the next digit in a sequence. \n",
        "\n",
        "# Dataset: - Create a sequence like a list of odd numbers and then build a model and train it to predict the next digit in the sequence. \n",
        "\n",
        "# Task: - A simple neural network with 2 layers would be sufficient to build the model.\n",
        "\n",
        "\n",
        "> Indented block\n",
        "\n"
      ],
      "metadata": {
        "id": "-p_pVjfIxlya"
      }
    },
    {
      "cell_type": "code",
      "execution_count": null,
      "metadata": {
        "id": "2PKZoGnXCLUq"
      },
      "outputs": [],
      "source": [
        "import numpy as np\n",
        "from keras.models import Sequential\n",
        "from keras.layers import Dense, Dropout\n"
      ]
    },
    {
      "cell_type": "code",
      "source": [
        "sequence = np.arange(1, 201, 2) # create sequence\n"
      ],
      "metadata": {
        "id": "oRzESPHoCY6p"
      },
      "execution_count": null,
      "outputs": []
    },
    {
      "cell_type": "code",
      "source": [
        "print(sequence)"
      ],
      "metadata": {
        "colab": {
          "base_uri": "https://localhost:8080/"
        },
        "id": "QRRmgVpUCY38",
        "outputId": "f191c9c5-23ca-4e4e-b235-e7c9f968f26e"
      },
      "execution_count": null,
      "outputs": [
        {
          "output_type": "stream",
          "name": "stdout",
          "text": [
            "[  1   3   5   7   9  11  13  15  17  19  21  23  25  27  29  31  33  35\n",
            "  37  39  41  43  45  47  49  51  53  55  57  59  61  63  65  67  69  71\n",
            "  73  75  77  79  81  83  85  87  89  91  93  95  97  99 101 103 105 107\n",
            " 109 111 113 115 117 119 121 123 125 127 129 131 133 135 137 139 141 143\n",
            " 145 147 149 151 153 155 157 159 161 163 165 167 169 171 173 175 177 179\n",
            " 181 183 185 187 189 191 193 195 197 199]\n"
          ]
        }
      ]
    },
    {
      "cell_type": "code",
      "source": [
        "len(sequence)"
      ],
      "metadata": {
        "colab": {
          "base_uri": "https://localhost:8080/"
        },
        "id": "lOpdSSvXCY0p",
        "outputId": "060d5660-6c9b-4db3-d10b-0d9a86e59006"
      },
      "execution_count": null,
      "outputs": [
        {
          "output_type": "execute_result",
          "data": {
            "text/plain": [
              "100"
            ]
          },
          "metadata": {},
          "execution_count": 5
        }
      ]
    },
    {
      "cell_type": "markdown",
      "source": [
        "# We will now split our dataset into input and output variables. Our input variable will be a sequence of 4 numbers, and our output variable will be the next number in the sequence."
      ],
      "metadata": {
        "id": "KaMXJvK3Cs4c"
      }
    },
    {
      "cell_type": "code",
      "source": [
        "def split_sequence(sequence, n_steps):\n",
        "    X, y = [], []   # create empty lists for input and output sequences\n",
        "    for i in range(len(sequence)):   # loop through the entire original sequence\n",
        "        end_ix = i + n_steps   # calculate the end index of the current input sequence\n",
        "        if end_ix > len(sequence)-1:   # if the end index is greater than the length of the sequence, break the loop\n",
        "            break\n",
        "        seq_x, seq_y = sequence[i:end_ix], sequence[end_ix]   # slice the input and output sequences from the original sequence\n",
        "        X.append(seq_x)   # add the input sequence to the X list\n",
        "        y.append(seq_y)   # add the output value to the y list\n",
        "    return np.array(X), np.array(y)   # return the X and y lists as NumPy arrays\n",
        "\n",
        "n_steps = 4\n",
        "X, y = split_sequence(sequence, n_steps)\n"
      ],
      "metadata": {
        "id": "FxdxFPRQCYva"
      },
      "execution_count": null,
      "outputs": []
    },
    {
      "cell_type": "markdown",
      "source": [],
      "metadata": {
        "id": "oH2otAiaxavC"
      }
    },
    {
      "cell_type": "markdown",
      "source": [],
      "metadata": {
        "id": "C_BwdrQhxi0r"
      }
    },
    {
      "cell_type": "markdown",
      "source": [],
      "metadata": {
        "id": "ryVCPsHXxiKH"
      }
    },
    {
      "cell_type": "code",
      "source": [
        "model = Sequential()\n",
        "model.add(Dense(100, activation='relu', input_dim=n_steps))\n",
        "model.add(Dense(50, activation='relu'))\n",
        "model.add(Dense(1, activation='linear'))\n"
      ],
      "metadata": {
        "id": "xcFrBpVYCYp7"
      },
      "execution_count": null,
      "outputs": []
    },
    {
      "cell_type": "code",
      "source": [
        "model.compile(optimizer='adam', loss='mse')\n"
      ],
      "metadata": {
        "id": "qpCwAGQoCYnV"
      },
      "execution_count": null,
      "outputs": []
    },
    {
      "cell_type": "code",
      "source": [
        "model.fit(X, y, epochs=1000, verbose=0)\n"
      ],
      "metadata": {
        "id": "flaqcZLuCYkq",
        "colab": {
          "base_uri": "https://localhost:8080/"
        },
        "outputId": "a4a00143-d276-4d2d-d36d-19776081ff36"
      },
      "execution_count": null,
      "outputs": [
        {
          "output_type": "execute_result",
          "data": {
            "text/plain": [
              "<keras.callbacks.History at 0x7f24d1d40eb0>"
            ]
          },
          "metadata": {},
          "execution_count": 9
        }
      ]
    },
    {
      "cell_type": "code",
      "source": [
        "x_input = np.array(sequence[-n_steps:]).reshape((1, n_steps, 1))\n",
        "y_hat = model.predict(x_input, verbose=0)\n",
        "print('Input sequence:', sequence[-n_steps:])\n",
        "print('Predicted next number:', int(y_hat[0][0]))"
      ],
      "metadata": {
        "colab": {
          "base_uri": "https://localhost:8080/"
        },
        "id": "hzICm-7pQwXz",
        "outputId": "9e1a7b65-fcf2-4625-f682-cf1603e66d79"
      },
      "execution_count": null,
      "outputs": [
        {
          "output_type": "stream",
          "name": "stderr",
          "text": [
            "WARNING:tensorflow:5 out of the last 6 calls to <function Model.make_predict_function.<locals>.predict_function at 0x7f7d03637790> triggered tf.function retracing. Tracing is expensive and the excessive number of tracings could be due to (1) creating @tf.function repeatedly in a loop, (2) passing tensors with different shapes, (3) passing Python objects instead of tensors. For (1), please define your @tf.function outside of the loop. For (2), @tf.function has reduce_retracing=True option that can avoid unnecessary retracing. For (3), please refer to https://www.tensorflow.org/guide/function#controlling_retracing and https://www.tensorflow.org/api_docs/python/tf/function for  more details.\n"
          ]
        },
        {
          "output_type": "stream",
          "name": "stdout",
          "text": [
            "Input sequence: [3, 5, 7, 9]\n",
            "Predicted next number: 11\n"
          ]
        }
      ]
    },
    {
      "cell_type": "code",
      "source": [
        "x_input"
      ],
      "metadata": {
        "colab": {
          "base_uri": "https://localhost:8080/"
        },
        "id": "7Ps52DaaPP0y",
        "outputId": "d11c4a15-83bb-42b3-802f-befc42d65af2"
      },
      "execution_count": null,
      "outputs": [
        {
          "output_type": "execute_result",
          "data": {
            "text/plain": [
              "array([], dtype=float64)"
            ]
          },
          "metadata": {},
          "execution_count": 69
        }
      ]
    },
    {
      "cell_type": "markdown",
      "source": [
        "# final code for predection "
      ],
      "metadata": {
        "id": "2PW_RBWnSbrl"
      }
    },
    {
      "cell_type": "code",
      "source": [
        "# predict the next number in the sequence given an input sequence\n",
        "def predict_sequence(model, sequence, n_steps):\n",
        "    prediction = []\n",
        "    for i in range(len(sequence)):\n",
        "            x_input = np.array(sequence[-n_steps:])\n",
        "            x_input = x_input.reshape((1, n_steps))\n",
        "            y_hat = model.predict(x_input, verbose=0)\n",
        "            prediction.append(round(y_hat[0][0]))\n",
        "            return prediction\n",
        "\n",
        "input_sequence = [1, 3, 5, 7]\n",
        "prediction = predict_sequence(model, input_sequence, n_steps)\n",
        "print(prediction)\n"
      ],
      "metadata": {
        "colab": {
          "base_uri": "https://localhost:8080/"
        },
        "id": "PIMMGH6XR-Av",
        "outputId": "8e49e714-ecd2-4e13-e9ea-b8e4bd0dc48e"
      },
      "execution_count": null,
      "outputs": [
        {
          "output_type": "stream",
          "name": "stdout",
          "text": [
            "[9]\n"
          ]
        }
      ]
    },
    {
      "cell_type": "code",
      "source": [
        "print('Input sequence:', input_sequence)\n",
        "print('Predicted next number:', prediction)"
      ],
      "metadata": {
        "colab": {
          "base_uri": "https://localhost:8080/"
        },
        "id": "gSFYdSUcwspz",
        "outputId": "7607fba4-04a8-44a9-e462-cfa7760b0ce9"
      },
      "execution_count": null,
      "outputs": [
        {
          "output_type": "stream",
          "name": "stdout",
          "text": [
            "Input sequence: [1, 3, 5, 7]\n",
            "Predicted next number: [9]\n"
          ]
        }
      ]
    },
    {
      "cell_type": "code",
      "source": [],
      "metadata": {
        "id": "vOzGO7HMwsjk"
      },
      "execution_count": null,
      "outputs": []
    },
    {
      "cell_type": "code",
      "source": [],
      "metadata": {
        "id": "R5W3gw3CCYXI"
      },
      "execution_count": null,
      "outputs": []
    },
    {
      "cell_type": "code",
      "source": [],
      "metadata": {
        "id": "G9q4hsgJCYRn"
      },
      "execution_count": null,
      "outputs": []
    }
  ]
}