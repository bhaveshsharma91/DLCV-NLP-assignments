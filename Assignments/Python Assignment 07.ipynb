{
 "cells": [
  {
   "cell_type": "code",
   "execution_count": 29,
   "metadata": {},
   "outputs": [
    {
     "name": "stdout",
     "output_type": "stream",
     "text": [
      "True\n",
      "False\n",
      "[True, False, False]\n"
     ]
    }
   ],
   "source": [
    "#Write a Python program to check if all dictionaries in a list are empty or not. \n",
    "def EmptyOrNot(lst):\n",
    "    l=[]\n",
    "    for i in lst:\n",
    "        if len(i)==0:\n",
    "            l.append(bool(0))\n",
    "        else:\n",
    "            l.append(bool(1))\n",
    "    return l\n",
    "\n",
    "my_list1 = [{},{},{}] \n",
    "my_list2 = [{123,2345},{},{}] \n",
    "print(all(not d for d in my_list1)) \n",
    "print(all(not d for d in my_list2)) \n",
    "\n",
    "print(EmptyOrNot(my_list2))\n"
   ]
  },
  {
   "cell_type": "code",
   "execution_count": null,
   "metadata": {},
   "outputs": [],
   "source": []
  },
  {
   "cell_type": "code",
   "execution_count": 26,
   "metadata": {},
   "outputs": [
    {
     "name": "stdout",
     "output_type": "stream",
     "text": [
      "Original List [[110, 120], [240], [330, 456, 425], [310, 220], [133], [240]]\n",
      "New List [[110, 120], [133], [240], [310, 220], [330, 456, 425]]\n"
     ]
    }
   ],
   "source": [
    "#Write a Python program to remove duplicates from a list of lists.\n",
    "import itertools \n",
    "num = [[110, 120], [240], [330, 456, 425], [310, 220], [133], [240]]\n",
    "print(\"Original List\", num) \n",
    "num.sort() \n",
    "new_num = list(num for num,_ in itertools.groupby(num)) \n",
    "print(\"New List\", new_num)\n",
    "\n"
   ]
  },
  {
   "cell_type": "code",
   "execution_count": null,
   "metadata": {},
   "outputs": [],
   "source": []
  },
  {
   "cell_type": "code",
   "execution_count": 25,
   "metadata": {},
   "outputs": [
    {
     "name": "stdout",
     "output_type": "stream",
     "text": [
      "[103, 320, 430, 2, 3, 4, 5]\n"
     ]
    }
   ],
   "source": [
    "#Write a Python program to extend a list without append.\n",
    "lst=[2,3,4,5]\n",
    "lst2 = [103, 320, 430] \n",
    "lst[:0] = lst2\n",
    "print(lst)"
   ]
  },
  {
   "cell_type": "code",
   "execution_count": null,
   "metadata": {},
   "outputs": [],
   "source": []
  },
  {
   "cell_type": "code",
   "execution_count": 22,
   "metadata": {},
   "outputs": [
    {
     "name": "stdout",
     "output_type": "stream",
     "text": [
      "[45, 12, 10]\n"
     ]
    }
   ],
   "source": [
    "#Write a Python program to find the list in a list of lists whose sum of elements is th e highest \n",
    "lst_of_ls=[[1,2,3],[4,5,6,9],[45,12,10]]\n",
    "print(max(lst_of_ls,key = sum))"
   ]
  },
  {
   "cell_type": "code",
   "execution_count": null,
   "metadata": {},
   "outputs": [],
   "source": []
  },
  {
   "cell_type": "code",
   "execution_count": 21,
   "metadata": {},
   "outputs": [
    {
     "name": "stdout",
     "output_type": "stream",
     "text": [
      "Bhaven\n"
     ]
    }
   ],
   "source": [
    "#Write a Python program to access dictionary key’s element by index.\n",
    "dic = {\"Bhaven\":10 , \"Avisikta\":19}\n",
    "print(list(dic)[0])"
   ]
  },
  {
   "cell_type": "code",
   "execution_count": null,
   "metadata": {},
   "outputs": [],
   "source": []
  },
  {
   "cell_type": "code",
   "execution_count": 15,
   "metadata": {},
   "outputs": [
    {
     "name": "stdout",
     "output_type": "stream",
     "text": [
      "1 2 3 4 5 6 "
     ]
    }
   ],
   "source": [
    "#Write a Python program to iterate over two lists simultaneously. \n",
    "\n",
    "lst1=[1,3,5]\n",
    "lst2=[2,4,6]\n",
    "for a,b in zip(lst1,lst2):\n",
    "    print(a,b,end=\" \")\n"
   ]
  },
  {
   "cell_type": "code",
   "execution_count": null,
   "metadata": {},
   "outputs": [],
   "source": []
  },
  {
   "cell_type": "code",
   "execution_count": 11,
   "metadata": {},
   "outputs": [
    {
     "name": "stdout",
     "output_type": "stream",
     "text": [
      "[1, 2, 3, 4, 5]\n"
     ]
    }
   ],
   "source": [
    "#write a program to insert a string at the begining of every elements in a list \n",
    "def InsertAtBeg(lst,ele):\n",
    "    lst.insert(0,ele)\n",
    "    return lst\n",
    "\n",
    "print(InsertAtBeg([2,3,4,5],1))"
   ]
  },
  {
   "cell_type": "code",
   "execution_count": null,
   "metadata": {},
   "outputs": [],
   "source": []
  },
  {
   "cell_type": "code",
   "execution_count": 16,
   "metadata": {},
   "outputs": [
    {
     "name": "stdout",
     "output_type": "stream",
     "text": [
      "[125]\n"
     ]
    }
   ],
   "source": [
    "# write a program to take two lists and print if they have at least one common member \n",
    "def CommonMember(lst1,lst2):\n",
    "    newlst=[]\n",
    "    for i in lst1:\n",
    "        if i in lst2:\n",
    "            newlst.append(i)\n",
    "    return newlst\n",
    "\n",
    "print(CommonMember([121,222,332,432,125], [125,236,457,678,779]))\n"
   ]
  },
  {
   "cell_type": "code",
   "execution_count": 10,
   "metadata": {},
   "outputs": [
    {
     "name": "stdout",
     "output_type": "stream",
     "text": [
      "[(12, 22, 23), (12, 23, 22), (22, 12, 23), (22, 23, 12), (23, 12, 22), (23, 22, 12)]\n"
     ]
    }
   ],
   "source": [
    "# compute all permutations in a list \n",
    "import itertools \n",
    "print(list(itertools.permutations([12,22,23]))) "
   ]
  },
  {
   "cell_type": "code",
   "execution_count": null,
   "metadata": {},
   "outputs": [],
   "source": []
  }
 ],
 "metadata": {
  "kernelspec": {
   "display_name": "Python 3",
   "language": "python",
   "name": "python3"
  },
  "language_info": {
   "codemirror_mode": {
    "name": "ipython",
    "version": 3
   },
   "file_extension": ".py",
   "mimetype": "text/x-python",
   "name": "python",
   "nbconvert_exporter": "python",
   "pygments_lexer": "ipython3",
   "version": "3.8.5"
  }
 },
 "nbformat": 4,
 "nbformat_minor": 4
}
