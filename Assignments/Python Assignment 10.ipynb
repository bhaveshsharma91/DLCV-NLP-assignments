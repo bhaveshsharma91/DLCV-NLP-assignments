{
 "cells": [
  {
   "cell_type": "code",
   "execution_count": 1,
   "id": "79b179e0",
   "metadata": {},
   "outputs": [],
   "source": [
    "#create a tuple from multiple data types \n",
    "tuple1 = (\"tuple\", False, 3.2, 1) "
   ]
  },
  {
   "cell_type": "code",
   "execution_count": 2,
   "id": "8b409fc4",
   "metadata": {},
   "outputs": [
    {
     "name": "stdout",
     "output_type": "stream",
     "text": [
      "('tuple', False, 3.2, 1)\n"
     ]
    }
   ],
   "source": [
    "print(tuple1)"
   ]
  },
  {
   "cell_type": "code",
   "execution_count": 3,
   "id": "13695d45",
   "metadata": {},
   "outputs": [],
   "source": [
    "a = ['tuple','dict','try'] \n",
    "b = [2.3,4.5,6.7] \n",
    "c = [1,2,3] \n",
    "d = [True, False, True] "
   ]
  },
  {
   "cell_type": "code",
   "execution_count": 4,
   "id": "269dd15e",
   "metadata": {},
   "outputs": [],
   "source": [
    "tuple2 = (a , b , c, d)"
   ]
  },
  {
   "cell_type": "code",
   "execution_count": 5,
   "id": "fd6e48c4",
   "metadata": {},
   "outputs": [
    {
     "name": "stdout",
     "output_type": "stream",
     "text": [
      "(['tuple', 'dict', 'try'], [2.3, 4.5, 6.7], [1, 2, 3], [True, False, True])\n"
     ]
    }
   ],
   "source": [
    "print(tuple2)"
   ]
  },
  {
   "cell_type": "code",
   "execution_count": 6,
   "id": "6d288e49",
   "metadata": {},
   "outputs": [
    {
     "name": "stdout",
     "output_type": "stream",
     "text": [
      "data science has the following options: Red hat\n",
      "Blue mix has the following options: Blue mixx\n",
      "algorithms has the following options: Green gold\n"
     ]
    }
   ],
   "source": [
    "# Create a list of length 3 and Create a list of length 4, For each element in the first list, \n",
    "# Display the corresponding index element of the second list \n",
    "\n",
    "# Create a list of length 3: \n",
    "header = ['data science', 'Blue mix', 'algorithms'] \n",
    "# Create a list of length 4: \n",
    "match = ['Red hat', 'Blue mixx','Green gold','Orange Ai'] \n",
    "\n",
    "# For each element in the first list, \n",
    "for header, match in zip(header, match): \n",
    " # Display the corresponding index element of the second list: \n",
    "    print(header, 'has the following options:', match)"
   ]
  },
  {
   "cell_type": "code",
   "execution_count": 7,
   "id": "deea9804",
   "metadata": {},
   "outputs": [
    {
     "data": {
      "text/plain": [
       "[('data science', 'Red hat'),\n",
       " ('data science', 'Blue mixx'),\n",
       " ('data science', 'Green gold'),\n",
       " ('data science', 'Orange Ai'),\n",
       " ('Blue mix', 'Red hat'),\n",
       " ('Blue mix', 'Blue mixx'),\n",
       " ('Blue mix', 'Green gold'),\n",
       " ('Blue mix', 'Orange Ai'),\n",
       " ('algorithms', 'Red hat'),\n",
       " ('algorithms', 'Blue mixx'),\n",
       " ('algorithms', 'Green gold'),\n",
       " ('algorithms', 'Orange Ai')]"
      ]
     },
     "execution_count": 7,
     "metadata": {},
     "output_type": "execute_result"
    }
   ],
   "source": [
    " # display an example of Nested For Loops Using List Comprehension \n",
    "# Create a list of length 3: \n",
    "headers = ['data science', 'Blue mix', 'algorithms'] \n",
    "# Create a list of length 4: \n",
    "matches = ['Red hat', 'Blue mixx','Green gold','Orange Ai'] \n",
    " \n",
    "[(header, match) for header in headers for match in matches ] \n"
   ]
  },
  {
   "cell_type": "code",
   "execution_count": 8,
   "id": "3f47f03a",
   "metadata": {},
   "outputs": [
    {
     "name": "stdout",
     "output_type": "stream",
     "text": [
      "Red Army\n",
      "Blue Army\n",
      "Blue Army Found! Stopping.\n"
     ]
    }
   ],
   "source": [
    "#write a program for breaking and exiting out of loop \n",
    "# Create a list: \n",
    "armies = ['Red Army', 'Blue Army', 'Green Army'] \n",
    " \n",
    "for army in armies: \n",
    "    print(army) \n",
    "    if army == 'Blue Army': \n",
    "        print('Blue Army Found! Stopping.') \n",
    "        break"
   ]
  },
  {
   "cell_type": "code",
   "execution_count": 9,
   "id": "ee48f866",
   "metadata": {},
   "outputs": [
    {
     "name": "stdout",
     "output_type": "stream",
     "text": [
      "Red Army\n",
      "Looped Through The Whole List, No Orange Army Found\n",
      "Blue Army\n",
      "Looped Through The Whole List, No Orange Army Found\n",
      "Green Army\n",
      "Looped Through The Whole List, No Orange Army Found\n"
     ]
    }
   ],
   "source": [
    "#A loop will exit when completed, but using an else statement we can add an action at t he conclusion of the loop if it hasn’t been exited earlier. \n",
    "\n",
    "for army in armies: \n",
    "    print(army) \n",
    "    if army == 'Orange Army': \n",
    "        flag= 1\n",
    "        break \n",
    "    else: \n",
    "        print('Looped Through The Whole List, No Orange Army Found') "
   ]
  },
  {
   "cell_type": "raw",
   "id": "a3209150",
   "metadata": {},
   "source": []
  }
 ],
 "metadata": {
  "kernelspec": {
   "display_name": "Python 3",
   "language": "python",
   "name": "python3"
  },
  "language_info": {
   "codemirror_mode": {
    "name": "ipython",
    "version": 3
   },
   "file_extension": ".py",
   "mimetype": "text/x-python",
   "name": "python",
   "nbconvert_exporter": "python",
   "pygments_lexer": "ipython3",
   "version": "3.8.8"
  }
 },
 "nbformat": 4,
 "nbformat_minor": 5
}
